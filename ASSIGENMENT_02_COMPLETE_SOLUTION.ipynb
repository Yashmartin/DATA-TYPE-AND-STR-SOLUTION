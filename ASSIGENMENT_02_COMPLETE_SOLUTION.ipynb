{
  "nbformat": 4,
  "nbformat_minor": 0,
  "metadata": {
    "colab": {
      "provenance": []
    },
    "kernelspec": {
      "name": "python3",
      "display_name": "Python 3"
    },
    "language_info": {
      "name": "python"
    }
  },
  "cells": [
    {
      "cell_type": "markdown",
      "source": [
        "**#data structure solutions.**"
      ],
      "metadata": {
        "id": "dXmFq6DsMHiS"
      }
    },
    {
      "cell_type": "code",
      "execution_count": null,
      "metadata": {
        "id": "Lfy_BAoBvmzW"
      },
      "outputs": [],
      "source": [
        "#THEORY SOLUTION"
      ]
    },
    {
      "cell_type": "markdown",
      "source": [
        "QUE01- what are data structures ,and why are they important?"
      ],
      "metadata": {
        "id": "2NsqrQiwvnjW"
      }
    },
    {
      "cell_type": "markdown",
      "source": [
        "ANS01-- Data structures are fundamental ways to organize and store data to enable efficient access and manipulation, and they are crucial for writing efficient and understandable code. They are essential for computer science because they allow users and systems to organize, work with, and store data efficientl"
      ],
      "metadata": {
        "id": "HmSuraBkvtK-"
      }
    },
    {
      "cell_type": "markdown",
      "source": [
        "QUE02- explain the differnces between mutables and immutables data types with examples?"
      ],
      "metadata": {
        "id": "E3I6UvYIv1yU"
      }
    },
    {
      "cell_type": "markdown",
      "source": [
        "ANS02-- Mutable data types are those whose values can be modified after they are created, while immutable data types are those whose values cannot be modified once created.\n",
        "EXAMPLES:\n",
        "MUTABLES-Mutable objects can be changed after they are created. Common examples include:\n",
        "Lists: Elements can be added, removed, or modified.\n",
        "Dictionaries: Key-value pairs can be added, removed, or updated.\n",
        "Sets: Elements can be added or removed\n",
        "\n",
        "IMMUTABLES:Immutable objects cannot be changed after they are created. If a modification is needed, a new object must be created. Common examples include:\n",
        "Strings: Individual characters cannot be changed.\n",
        "Tuples: Elements cannot be added, removed, or modified.\n",
        "Numbers (int, float, complex): Values cannot be changed."
      ],
      "metadata": {
        "id": "xghk9PD4v-Na"
      }
    },
    {
      "cell_type": "markdown",
      "source": [
        "QUE03- What are the main differnces between lists and tuples in python?"
      ],
      "metadata": {
        "id": "fW0cKAzwwLIr"
      }
    },
    {
      "cell_type": "markdown",
      "source": [
        "ANS03-- In Python, lists and tuples both store collections of data, but differ in mutability, performance and memory usage. Lists are mutable, allowing modifications, while tuples are immutable. Choosing between them depends on whether you need to modify the data or prioritize performance and memory efficiency."
      ],
      "metadata": {
        "id": "TGfHJ82EwZfX"
      }
    },
    {
      "cell_type": "markdown",
      "source": [
        "QUE04- Describe how dictionaries store data?"
      ],
      "metadata": {
        "id": "Z6AgoQGiwmJd"
      }
    },
    {
      "cell_type": "markdown",
      "source": [
        "ANS04-- The dictionary consists of a number of buckets. Each of these buckets contains the hash code of the object that contains the key-value pair. A pointer to the key object and a pointer to the value object"
      ],
      "metadata": {
        "id": "miv18rdjw2fI"
      }
    },
    {
      "cell_type": "markdown",
      "source": [
        "QUE05- Why might you use a set instead of a lists in python?"
      ],
      "metadata": {
        "id": "68F6abD7w6aE"
      }
    },
    {
      "cell_type": "markdown",
      "source": [
        "ANS05-- Since sets do not store indexed data or duplicates, they use less memory than lists and are less computationally expensive. As a result, sets take less time to search through. To test this, the code below performs two membership tests. In one case, the container is a list and in the other, it's a set."
      ],
      "metadata": {
        "id": "neIq3_wPw-aK"
      }
    },
    {
      "cell_type": "markdown",
      "source": [
        "QUE06- What is a string in python,and how is it different from a lists?"
      ],
      "metadata": {
        "id": "KmpruYLrxBf8"
      }
    },
    {
      "cell_type": "markdown",
      "source": [
        "ANS06-- In Python, a string is an immutable sequence of characters enclosed in single or double quotes, while a list is a mutable, ordered collection of items (which can be of any data type) enclosed in square brackets."
      ],
      "metadata": {
        "id": "jq3rFhhXxKxg"
      }
    },
    {
      "cell_type": "markdown",
      "source": [
        "QUE07- How do tuples ensure data integrity in python?"
      ],
      "metadata": {
        "id": "iEQ8sEqoxL8S"
      }
    },
    {
      "cell_type": "markdown",
      "source": [
        "ANS07-- Tuples in Python ensure data integrity through their immutability. Once a tuple is created, its elements cannot be modified, added, or removed. This characteristic guarantees that the data stored within a tuple remains constant throughout its lifespan, preventing accidental or unauthorized changes. Immutability is crucial in scenarios where data integrity is paramount, such as storing configuration settings, representing fixed records, or ensuring data consistency in concurrent environments. Tuples are defined using parentheses ()\n",
        "\n"
      ],
      "metadata": {
        "id": "KU4AN3RQxQP3"
      }
    },
    {
      "cell_type": "markdown",
      "source": [
        "QUE08- What is hashtable ,and how does it relate to dictionaries in python?"
      ],
      "metadata": {
        "id": "dTKgyTMVxTRR"
      }
    },
    {
      "cell_type": "markdown",
      "source": [
        "ANS08-- A hash table is a data structure that stores key-value pairs, where each key is unique and mapped to a specific value. It uses a hash function to compute an index into an array of buckets or slots, from which the desired value can be looked up. This allows for efficient retrieval, insertion, and deletion of data, typically with an average time complexity of O(1).\n",
        "In Python, dictionaries are implemented using hash tables. When you create a dictionary, Python internally uses a hash function to calculate the index for each key, storing the key-value pair in the corresponding location within the hash table. This implementation detail is why dictionaries in Python offer fast lookups, insertions, and deletions.\n",
        "However, it's important to note that collisions can occur when different keys produce the same hash value. Python's dictionary implementation handles collisions using a technique called separate chaining, where multiple key-value pairs with the same hash value are stored in a linked list at that index."
      ],
      "metadata": {
        "id": "bSXnbyHixXBM"
      }
    },
    {
      "cell_type": "markdown",
      "source": [
        "QUE09- Can list contain different data types in python?"
      ],
      "metadata": {
        "id": "bIN2khYyxbqc"
      }
    },
    {
      "cell_type": "markdown",
      "source": [
        "ANS09-- es, lists in Python can contain items of different data types. A single list can store integers, strings, floats, booleans, and even other lists or data structures. This flexibility is a key feature of Python lists."
      ],
      "metadata": {
        "id": "ch96yIc2xvRM"
      }
    },
    {
      "cell_type": "markdown",
      "source": [
        "QUE10- Explain why strings are immutables in python?"
      ],
      "metadata": {
        "id": "Rgvl9D6dxyo6"
      }
    },
    {
      "cell_type": "markdown",
      "source": [
        "ANS10-- Strings are immutable in Python for reasons related to performance, safety, and design principles. Once a string is created, its value cannot be changed. Any operation that appears to modify a string actually creates a new string object.\n",
        "One advantage of immutability is performance optimization. Since strings are immutable, Python can perform certain optimizations like string interning, where identical string literals are stored only once in memory. This reduces memory usage and improves performance, especially when dealing with many identical strings.\n",
        "Immutability also contributes to the safety and robustness of code. Because strings cannot be changed after creation, they can be safely shared between different parts of a program without the risk of unintended modification. This is particularly important in multithreaded environments where multiple threads might access the same string.\n",
        "Furthermore, immutability allows strings to be used as keys in dictionaries. Dictionaries in Python require their keys to be hashable, and mutable objects cannot be hashed. Since strings are immutable, their hash values remain constant, making them suitable for use as dictionary keys."
      ],
      "metadata": {
        "id": "euYxT1p3x1zw"
      }
    },
    {
      "cell_type": "markdown",
      "source": [
        "QUE11- What advantages do dictionaries offer over lists for certain tasks?"
      ],
      "metadata": {
        "id": "yDAb2Lf3x6Db"
      }
    },
    {
      "cell_type": "markdown",
      "source": [
        "ANS11-- Dictionarys have two parts to every entry the key and the value and these are stored as pairs. This can give you more flexibility when storing data. The primary advantage would be retrieving stored values as it is much simpler to search through a dictionary.\n"
      ],
      "metadata": {
        "id": "KfMy56Wox_Q9"
      }
    },
    {
      "cell_type": "markdown",
      "source": [
        "QUE12- Describe a scenario where ussing a tuples would be preferable over a list?\n"
      ],
      "metadata": {
        "id": "2tS13AB9yB69"
      }
    },
    {
      "cell_type": "markdown",
      "source": [
        "ANS12- When to use tuples or lists depends on your needs. There may be some occasions when you don't want your data to be changed. If you have data that's not meant to be changed in the first place — such as critical information or records — you should choose tuple data type over lists."
      ],
      "metadata": {
        "id": "0rPHy5zZyGYJ"
      }
    },
    {
      "cell_type": "markdown",
      "source": [
        "QUE13- How do sets handle duplicate values in python?"
      ],
      "metadata": {
        "id": "nz7rgD17yKOg"
      }
    },
    {
      "cell_type": "markdown",
      "source": [
        "ANS13-- Python sets cannot have duplicate values. While you cannot modify the individual elements directly, you can still add or remove elements from the set. Output: The first code explains that the set cannot have a duplicate valu"
      ],
      "metadata": {
        "id": "ogn4LHH3yPE8"
      }
    },
    {
      "cell_type": "markdown",
      "source": [
        "QUE14- How does the \"in\" keyboards work differently for lists and dictionaaries?"
      ],
      "metadata": {
        "id": "I3QXCME7ySfL"
      }
    },
    {
      "cell_type": "markdown",
      "source": [
        "ANS14-- For dictionaries\n",
        "\n",
        "The key of the dictionary is a unique value as well as the set, and the execution time is about the same as for sets. On the other hand, dictionary values can be duplicated like a list. The execution time of in for values() is about the same as for lists. Key-value pairs are unique"
      ],
      "metadata": {
        "id": "Rks6DNM2yYkL"
      }
    },
    {
      "cell_type": "markdown",
      "source": [
        "QUE15- Can you modify the elements of a tuples ?expalin why or why not."
      ],
      "metadata": {
        "id": "CmMpXjHaycdC"
      }
    },
    {
      "cell_type": "markdown",
      "source": [
        "ANS15-- No, you cannot directly modify the elements of a tuple in Python because tuples are immutable, meaning their contents cannot be changed after creation.\n",
        "Here's why:\n",
        "Immutability: Tuples are designed to be a fixed, ordered collection of items, and allowing modification would violate this fundamental principle.\n",
        "Data Integrity: Immutability helps ensure data integrity by preventing accidental or unintended changes to the tuple's contents.\n",
        "Efficiency: Because tuples are immutable, the Python interpreter can optimize their storage and access, leading to potentially faster performance.\n",
        "Alternative: If you need a mutable sequence, use a list instead."
      ],
      "metadata": {
        "id": "RTtV9U_8ykB5"
      }
    },
    {
      "cell_type": "markdown",
      "source": [
        "QUE16- What is a nested dictionary,and give an examples of its use case?"
      ],
      "metadata": {
        "id": "V7VPOFasyng-"
      }
    },
    {
      "cell_type": "markdown",
      "source": [
        "ANS16-- A nested dictionary in Python is a dictionary where the values are themselves dictionaries, allowing for hierarchical data organization. A use case is storing employee records, where each employee's details (name, ID, etc.) are in a dictionary, and these employee dictionaries are grouped by department (another dictionary).\n",
        "#EXAMPLE-\n",
        "    # Nested dictionary representing employee records by department\n",
        "    employee_data = {\n",
        "        \"Engineering\": {\n",
        "            \"123\": {\"name\": \"Alice\", \"role\": \"Software Engineer\"},\n",
        "            \"456\": {\"name\": \"Bob\", \"role\": \"Data Scientist\"}\n",
        "        },\n",
        "        \"Sales\": {\n",
        "            \"789\": {\"name\": \"Charlie\", \"role\": \"Sales Manager\"}\n",
        "        }\n",
        "    }\n",
        "\n",
        "    "
      ],
      "metadata": {
        "id": "yQoHoWlCyshg"
      }
    },
    {
      "cell_type": "markdown",
      "source": [
        "QUE17-Describe the time complexity of accessing elements in a dictionary?"
      ],
      "metadata": {
        "id": "4ntamO9syx-S"
      }
    },
    {
      "cell_type": "markdown",
      "source": [
        "ANS17- The time complexity of retrieving a value by its key in a dictionary is O(1). This is because dictionaries use a hash table internally which allows constant time lookup. Why O(1)? Hash tables use the hash of the key to find the memory location which enables direct access."
      ],
      "metadata": {
        "id": "3lEJjIh3y6hf"
      }
    },
    {
      "cell_type": "markdown",
      "source": [
        "QUE18- In what situations are lists prefered over dictinaries?"
      ],
      "metadata": {
        "id": "TA_iCgJcy99c"
      }
    },
    {
      "cell_type": "markdown",
      "source": [
        "ANS18-- performing sequence operations, while dictionaries are better for quick data lookups or when using keys to access values.\n",
        "Here's a more detailed explanation:\n",
        "Lists:\n",
        "Are ordered collections of items, meaning the order in which items are added is preserved.\n",
        "Items can be accessed by their position (index), allowing for efficient iteration and manipulation based on order.\n",
        "Useful for tasks like maintaining a stack, queue, or when needing to access elements in a specific sequence.\n",
        "Good for situations where the order of elements is important"
      ],
      "metadata": {
        "id": "j18TOXPUzDfR"
      }
    },
    {
      "cell_type": "markdown",
      "source": [
        "QUE19- Why are dictionaries considered unordered,and how does that affect data retrieval?"
      ],
      "metadata": {
        "id": "L6ILgIfazGQL"
      }
    },
    {
      "cell_type": "markdown",
      "source": [
        "ANS19-- Dictionaries are considered unordered because they don't maintain a specific order of elements based on insertion, unlike lists or tuples. This means data retrieval is based on keys, not positions, and the order of keys in a dictionary can vary during iteration or printing."
      ],
      "metadata": {
        "id": "vJ4lumQAzNcS"
      }
    },
    {
      "cell_type": "markdown",
      "source": [
        "QUE20- Explain the differnce between a lists and a dictionary in terms of data retrieval?"
      ],
      "metadata": {
        "id": "Ju_paWLFzQlH"
      }
    },
    {
      "cell_type": "markdown",
      "source": [
        "ANS20-- In data retrieval, lists access elements by their numerical index (starting from 0), while dictionaries access elements (values) by their unique key, offering faster lookups for specific data based on identifiers."
      ],
      "metadata": {
        "id": "HgUEcms-zWuU"
      }
    },
    {
      "cell_type": "markdown",
      "source": [],
      "metadata": {
        "id": "OBGtTY-UMcjc"
      }
    },
    {
      "cell_type": "markdown",
      "source": [
        "#PRACTICAL QUESTION SOLUTION:"
      ],
      "metadata": {
        "id": "cukgiPa5U5Dp"
      }
    },
    {
      "cell_type": "markdown",
      "source": [
        "QUE01- write a code to create a string with your name and print?"
      ],
      "metadata": {
        "id": "dBC_bE2wVZt8"
      }
    },
    {
      "cell_type": "code",
      "source": [
        "print(\"yash martin\")"
      ],
      "metadata": {
        "colab": {
          "base_uri": "https://localhost:8080/"
        },
        "id": "7ZeLC7PUWdil",
        "outputId": "91f52dd5-01ba-4b21-c2a6-966b90771f51"
      },
      "execution_count": null,
      "outputs": [
        {
          "output_type": "stream",
          "name": "stdout",
          "text": [
            "yash martin\n"
          ]
        }
      ]
    },
    {
      "cell_type": "markdown",
      "source": [
        "QUE02- Write a code to find the length of the string \"hello world\" ?"
      ],
      "metadata": {
        "id": "wAxXkYu6Wi5e"
      }
    },
    {
      "cell_type": "code",
      "source": [
        "string = \"hello world\"\n",
        "length = len(string)\n",
        "print(length)\n"
      ],
      "metadata": {
        "colab": {
          "base_uri": "https://localhost:8080/"
        },
        "id": "YqrIQWuuYd-5",
        "outputId": "e883440e-d3fa-4983-a989-bd8cea8a5774"
      },
      "execution_count": null,
      "outputs": [
        {
          "output_type": "stream",
          "name": "stdout",
          "text": [
            "11\n"
          ]
        }
      ]
    },
    {
      "cell_type": "code",
      "source": [
        "QUE03- Write a code to slice the first 3 character from the string \"python programming\""
      ],
      "metadata": {
        "id": "nTB1d6dNYe8A"
      },
      "execution_count": null,
      "outputs": []
    },
    {
      "cell_type": "code",
      "source": [
        "string = \"python programming\"\n",
        "sliced_string = string[:3]\n",
        "print(sliced_string)\n"
      ],
      "metadata": {
        "colab": {
          "base_uri": "https://localhost:8080/"
        },
        "id": "lX-zGOe8ZFZs",
        "outputId": "5e540a0d-da9d-43d3-d9f7-6daca76798aa"
      },
      "execution_count": null,
      "outputs": [
        {
          "output_type": "stream",
          "name": "stdout",
          "text": [
            "pyt\n"
          ]
        }
      ]
    },
    {
      "cell_type": "markdown",
      "source": [
        "QUE04- Write a code to convert the string \"hello\" to uppercase?"
      ],
      "metadata": {
        "id": "aAV_22S3gBPU"
      }
    },
    {
      "cell_type": "code",
      "source": [
        "string = \"hello\"\n",
        "uppercase_string = string.upper()\n",
        "print(uppercase_string)\n"
      ],
      "metadata": {
        "colab": {
          "base_uri": "https://localhost:8080/"
        },
        "id": "Hkz5KPQqgYCx",
        "outputId": "57713cb7-b8ba-4a68-9046-72de9a93ca8c"
      },
      "execution_count": null,
      "outputs": [
        {
          "output_type": "stream",
          "name": "stdout",
          "text": [
            "HELLO\n"
          ]
        }
      ]
    },
    {
      "cell_type": "markdown",
      "source": [
        "QUE05- Write a code to replace the word \"apple\" with \"orange\" in the string \"i like apple\"."
      ],
      "metadata": {
        "id": "WpxHFzw-gfzJ"
      }
    },
    {
      "cell_type": "code",
      "source": [
        "string = \"i like apple\"\n",
        "new_string = string.replace(\"apple\", \"orange\")\n",
        "print(new_string)\n"
      ],
      "metadata": {
        "colab": {
          "base_uri": "https://localhost:8080/"
        },
        "id": "4AHNIP4Tg5MT",
        "outputId": "ae1208ae-638b-4798-d0b9-722281823dba"
      },
      "execution_count": null,
      "outputs": [
        {
          "output_type": "stream",
          "name": "stdout",
          "text": [
            "i like orange\n"
          ]
        }
      ]
    },
    {
      "cell_type": "markdown",
      "source": [
        "QUE06- Write a code to create a list with numbers 1 to 5 and print it?"
      ],
      "metadata": {
        "id": "yyJcHyLIhFq7"
      }
    },
    {
      "cell_type": "code",
      "source": [
        "numbers = [1, 2, 3, 4, 5]\n",
        "print(numbers)\n"
      ],
      "metadata": {
        "colab": {
          "base_uri": "https://localhost:8080/"
        },
        "id": "B7YJHnSWh3C_",
        "outputId": "7dd36df5-f4c8-4104-ab14-a6a7a72b9a18"
      },
      "execution_count": null,
      "outputs": [
        {
          "output_type": "stream",
          "name": "stdout",
          "text": [
            "[1, 2, 3, 4, 5]\n"
          ]
        }
      ]
    },
    {
      "cell_type": "markdown",
      "source": [
        "QUE07- Write a code to append the number 10 to the list [1,2,3,4] ."
      ],
      "metadata": {
        "id": "XA5mr2SviIig"
      }
    },
    {
      "cell_type": "code",
      "source": [
        "numbers = [1, 2, 3, 4]\n",
        "numbers.append(10)\n",
        "print(numbers)\n"
      ],
      "metadata": {
        "colab": {
          "base_uri": "https://localhost:8080/"
        },
        "id": "Wt2BMafVihTI",
        "outputId": "80bdada5-db32-4832-ebbb-7d17656dc699"
      },
      "execution_count": null,
      "outputs": [
        {
          "output_type": "stream",
          "name": "stdout",
          "text": [
            "[1, 2, 3, 4, 10]\n"
          ]
        }
      ]
    },
    {
      "cell_type": "markdown",
      "source": [
        "QUE08- Write a code to remove the number 3 from the list[1,2,3,4,5]"
      ],
      "metadata": {
        "id": "ZcO0tIQpir3w"
      }
    },
    {
      "cell_type": "code",
      "source": [
        "numbers = [1, 2, 3, 4, 5]\n",
        "numbers.remove(3)\n",
        "print(numbers)\n"
      ],
      "metadata": {
        "colab": {
          "base_uri": "https://localhost:8080/"
        },
        "id": "tV5v2LW9i7hD",
        "outputId": "8bfbe11a-a2bb-4a50-b683-bbc7d2d906be"
      },
      "execution_count": null,
      "outputs": [
        {
          "output_type": "stream",
          "name": "stdout",
          "text": [
            "[1, 2, 4, 5]\n"
          ]
        }
      ]
    },
    {
      "cell_type": "markdown",
      "source": [
        "QUE09- Write a code to access the second element int the list [a, b, c, d]"
      ],
      "metadata": {
        "id": "2oEuwoKIjXeU"
      }
    },
    {
      "cell_type": "code",
      "source": [
        "letters = ['a', 'b', 'c', 'd']\n",
        "second_element = letters[1]  # Indexing starts from 0\n",
        "print(second_element)\n"
      ],
      "metadata": {
        "colab": {
          "base_uri": "https://localhost:8080/"
        },
        "id": "lGe0YdEKjoaL",
        "outputId": "01819da7-a16a-41e5-8bc1-784a2e86b066"
      },
      "execution_count": null,
      "outputs": [
        {
          "output_type": "stream",
          "name": "stdout",
          "text": [
            "b\n"
          ]
        }
      ]
    },
    {
      "cell_type": "markdown",
      "source": [
        "QUE10- Write a code to reverse the list[10, 20, 30, 40, 50]"
      ],
      "metadata": {
        "id": "b1M__sSqjzLv"
      }
    },
    {
      "cell_type": "code",
      "source": [
        "numbers = [10, 20, 30, 40, 50]\n",
        "numbers.reverse()  # Using the reverse() method\n",
        "print(numbers)\n"
      ],
      "metadata": {
        "colab": {
          "base_uri": "https://localhost:8080/"
        },
        "id": "ynG1YHW3kFNA",
        "outputId": "4c0f421b-5ff8-4371-a3fd-36410ab99e8f"
      },
      "execution_count": null,
      "outputs": [
        {
          "output_type": "stream",
          "name": "stdout",
          "text": [
            "[50, 40, 30, 20, 10]\n"
          ]
        }
      ]
    },
    {
      "cell_type": "markdown",
      "source": [
        "QUE11- Write a code to create a tuple with the elements 100, 200, 300 and print it?"
      ],
      "metadata": {
        "id": "8FRHIQExkTk3"
      }
    },
    {
      "cell_type": "code",
      "source": [
        "my_tuple = (100, 200, 300)\n",
        "print(my_tuple)"
      ],
      "metadata": {
        "colab": {
          "base_uri": "https://localhost:8080/"
        },
        "id": "ftWX-C4Wkj2p",
        "outputId": "a1a51b12-1bfa-4051-882d-ea21fcbb98ac"
      },
      "execution_count": null,
      "outputs": [
        {
          "output_type": "stream",
          "name": "stdout",
          "text": [
            "(100, 200, 300)\n"
          ]
        }
      ]
    },
    {
      "cell_type": "markdown",
      "source": [
        "QUE12- Write a code to access the second-to-last element of the tuple ('red', 'green', 'blue', 'yellow')"
      ],
      "metadata": {
        "id": "1gtw8RNnksI2"
      }
    },
    {
      "cell_type": "code",
      "source": [
        "colors = ('red', 'green', 'blue', 'yellow')\n",
        "second_to_last = colors[-2]  # Negative indexing\n",
        "print(second_to_last)\n"
      ],
      "metadata": {
        "colab": {
          "base_uri": "https://localhost:8080/"
        },
        "id": "R3NJCTsSladP",
        "outputId": "2e7a7550-9ff2-453d-feea-c2049b876719"
      },
      "execution_count": null,
      "outputs": [
        {
          "output_type": "stream",
          "name": "stdout",
          "text": [
            "blue\n"
          ]
        }
      ]
    },
    {
      "cell_type": "markdown",
      "source": [
        "QUE13- Write a code to find the minimum number in the tuple (10, 20, 5, 15)"
      ],
      "metadata": {
        "id": "VOCuq1jmlj9q"
      }
    },
    {
      "cell_type": "code",
      "source": [
        "numbers = (10, 20, 5, 15)\n",
        "min_number = min(numbers)\n",
        "print(min_number)\n"
      ],
      "metadata": {
        "colab": {
          "base_uri": "https://localhost:8080/"
        },
        "id": "EzivS6dSl0Z5",
        "outputId": "b8d78420-7f46-4700-a4e8-86b91925197d"
      },
      "execution_count": null,
      "outputs": [
        {
          "output_type": "stream",
          "name": "stdout",
          "text": [
            "5\n"
          ]
        }
      ]
    },
    {
      "cell_type": "markdown",
      "source": [
        "QUE14- Write the code to find the index of the element \"cat\" in the tuple ('dog', 'cat'. 'rabbit')"
      ],
      "metadata": {
        "id": "priEjEFkl-YL"
      }
    },
    {
      "cell_type": "code",
      "source": [
        "animals = ('dog', 'cat', 'rabbit')\n",
        "index_of_cat = animals.index('cat')\n",
        "print(index_of_cat)\n"
      ],
      "metadata": {
        "colab": {
          "base_uri": "https://localhost:8080/"
        },
        "id": "YXy5diFUmXV8",
        "outputId": "ebf360b8-8f68-4fb4-94c6-8a3edc2f1539"
      },
      "execution_count": null,
      "outputs": [
        {
          "output_type": "stream",
          "name": "stdout",
          "text": [
            "1\n"
          ]
        }
      ]
    },
    {
      "cell_type": "markdown",
      "source": [
        "QUE15- Write a code the create a tuple containing three different fruits and check if 'kiwi' is in it"
      ],
      "metadata": {
        "id": "Zw_3Px46mfk0"
      }
    },
    {
      "cell_type": "code",
      "source": [
        "fruits = ('apple', 'banana', 'orange')\n",
        "\n",
        "# Check if 'kiwi' is in the tuple\n",
        "if 'kiwi' in fruits:\n",
        "    print(\"Kiwi is in the tuple\")\n",
        "else:\n",
        "    print(\"Kiwi is not in the tuple\")\n"
      ],
      "metadata": {
        "colab": {
          "base_uri": "https://localhost:8080/"
        },
        "id": "jO-LllwIm0e4",
        "outputId": "d1d50a2f-a0f2-4d4c-967d-d854f667b181"
      },
      "execution_count": null,
      "outputs": [
        {
          "output_type": "stream",
          "name": "stdout",
          "text": [
            "Kiwi is not in the tuple\n"
          ]
        }
      ]
    },
    {
      "cell_type": "markdown",
      "source": [
        "QUE16- Write a code to create aa set with the elements 'a', 'b', 'c' and print it"
      ],
      "metadata": {
        "id": "e4s8EM6om_hx"
      }
    },
    {
      "cell_type": "code",
      "source": [
        "my_set = {'a', 'b', 'c'}\n",
        "print(my_set)\n"
      ],
      "metadata": {
        "colab": {
          "base_uri": "https://localhost:8080/"
        },
        "id": "lBfqXUOlnQ54",
        "outputId": "3d6d01ac-a8a4-4324-f407-391331b49005"
      },
      "execution_count": null,
      "outputs": [
        {
          "output_type": "stream",
          "name": "stdout",
          "text": [
            "{'b', 'c', 'a'}\n"
          ]
        }
      ]
    },
    {
      "cell_type": "markdown",
      "source": [
        "QUE17- Write a code to clear all elements from the set {1, 2, 3, 4, 5}"
      ],
      "metadata": {
        "id": "ceX0tZw9nc2K"
      }
    },
    {
      "cell_type": "code",
      "source": [
        "my_set = {1, 2, 3, 4, 5}\n",
        "my_set.clear()  # This removes all elements from the set\n",
        "print(my_set)\n"
      ],
      "metadata": {
        "colab": {
          "base_uri": "https://localhost:8080/"
        },
        "id": "6Q3PHeN2nui1",
        "outputId": "53bbb08c-39cb-45af-fe3b-c1608bd4cc02"
      },
      "execution_count": null,
      "outputs": [
        {
          "output_type": "stream",
          "name": "stdout",
          "text": [
            "set()\n"
          ]
        }
      ]
    },
    {
      "cell_type": "markdown",
      "source": [
        "QUE18- Write a code to remove the element 4 from the set {1, 2, 3, 4}"
      ],
      "metadata": {
        "id": "rF0JLuHin3Om"
      }
    },
    {
      "cell_type": "code",
      "source": [
        "my_set = {1, 2, 3, 4}\n",
        "my_set.remove(4)  # Removes 4 from the set\n",
        "print(my_set)\n"
      ],
      "metadata": {
        "colab": {
          "base_uri": "https://localhost:8080/"
        },
        "id": "G1CdB1zvoHn0",
        "outputId": "bd01d58b-5cde-4983-a392-9d92a0b7903c"
      },
      "execution_count": null,
      "outputs": [
        {
          "output_type": "stream",
          "name": "stdout",
          "text": [
            "{1, 2, 3}\n"
          ]
        }
      ]
    },
    {
      "cell_type": "markdown",
      "source": [
        "QUE19- Write a code to find the union of two sets{1,2,3} and {3,4,5}"
      ],
      "metadata": {
        "id": "wSLRYoH6oO6W"
      }
    },
    {
      "cell_type": "code",
      "source": [
        "set1 = {1, 2, 3}\n",
        "set2 = {3, 4, 5}\n",
        "\n",
        "union_set = set1.union(set2)  # Using the union() method\n",
        "print(union_set)\n"
      ],
      "metadata": {
        "colab": {
          "base_uri": "https://localhost:8080/"
        },
        "id": "pPdsLQQDokm0",
        "outputId": "48879d02-9739-4613-f5bf-bf1ef4f45d6a"
      },
      "execution_count": null,
      "outputs": [
        {
          "output_type": "stream",
          "name": "stdout",
          "text": [
            "{1, 2, 3, 4, 5}\n"
          ]
        }
      ]
    },
    {
      "cell_type": "markdown",
      "source": [
        "QUE20- Write a code to find the intersection of two sets {1, 2, 3} a {2, 3, 4}"
      ],
      "metadata": {
        "id": "1WTmbBJxosHi"
      }
    },
    {
      "cell_type": "code",
      "source": [
        "set1 = {1, 2, 3}\n",
        "set2 = {2, 3, 4}\n",
        "\n",
        "intersection_set = set1.intersection(set2)  # Using the intersection() method\n",
        "print(intersection_set)\n"
      ],
      "metadata": {
        "colab": {
          "base_uri": "https://localhost:8080/"
        },
        "id": "dn33ScURo97n",
        "outputId": "93e6791e-09d6-46c7-ef78-f5d3b3efc918"
      },
      "execution_count": null,
      "outputs": [
        {
          "output_type": "stream",
          "name": "stdout",
          "text": [
            "{2, 3}\n"
          ]
        }
      ]
    },
    {
      "cell_type": "markdown",
      "source": [
        "QUE21- Write a code to create a dictionary with keys 'name', 'age' and 'city' and print it"
      ],
      "metadata": {
        "id": "CgPFdzhfpGSv"
      }
    },
    {
      "cell_type": "code",
      "source": [
        "person = {\n",
        "    'name': 'yash martin',\n",
        "    'age': 23,\n",
        "    'city': 'lucknow'\n",
        "}\n",
        "\n",
        "print(person)\n"
      ],
      "metadata": {
        "colab": {
          "base_uri": "https://localhost:8080/"
        },
        "id": "HY79Dk2rpa1L",
        "outputId": "eaacde43-45ab-417e-ded9-2dad9c798050"
      },
      "execution_count": null,
      "outputs": [
        {
          "output_type": "stream",
          "name": "stdout",
          "text": [
            "{'name': 'yash martin', 'age': 23, 'city': 'lucknow'}\n"
          ]
        }
      ]
    },
    {
      "cell_type": "markdown",
      "source": [
        "QUE22- Write a code to add new key-value pair \"country\": \"USA\" to the dictionary {name 'john', age 25 }"
      ],
      "metadata": {
        "id": "hTI_7i5ppomJ"
      }
    },
    {
      "cell_type": "code",
      "source": [
        "person = {\"name\": \"John\", \"age\": 25}\n",
        "\n",
        "# Adding a new key-value pair\n",
        "person[\"country\"] = \"USA\"\n",
        "\n",
        "print(person)\n"
      ],
      "metadata": {
        "colab": {
          "base_uri": "https://localhost:8080/"
        },
        "id": "f1s3KRALqKQX",
        "outputId": "ac7c9017-16f6-44fd-e21b-b2453151632f"
      },
      "execution_count": null,
      "outputs": [
        {
          "output_type": "stream",
          "name": "stdout",
          "text": [
            "{'name': 'John', 'age': 25, 'country': 'USA'}\n"
          ]
        }
      ]
    },
    {
      "cell_type": "markdown",
      "source": [
        "QUE23- Write a code access the value 'associated' with the key 'name'  in the dictionary {'name' alice: 'age' 30}"
      ],
      "metadata": {
        "id": "jQ4URKEPqVOz"
      }
    },
    {
      "cell_type": "code",
      "source": [
        "person = {'name': 'Alice', 'age': 30}\n",
        "\n",
        "# Accessing the value associated with the key 'name'\n",
        "name_value = person['name']\n",
        "print(name_value)\n"
      ],
      "metadata": {
        "colab": {
          "base_uri": "https://localhost:8080/"
        },
        "id": "w0OVWNSAqx-R",
        "outputId": "111c2b3f-8572-448f-f11a-c0ba19eca868"
      },
      "execution_count": null,
      "outputs": [
        {
          "output_type": "stream",
          "name": "stdout",
          "text": [
            "Alice\n"
          ]
        }
      ]
    },
    {
      "cell_type": "markdown",
      "source": [
        "QUE24-Write  the code to remove the 'key' \"age\" from the dictionary {'name':bob, 'age':22, 'city':new york}"
      ],
      "metadata": {
        "id": "Av2UJQGfrLwu"
      }
    },
    {
      "cell_type": "code",
      "source": [
        "my_dict = {'name': 'bob', 'age': 22, 'city': 'new york'}\n",
        "del my_dict['age']\n",
        "print(my_dict)"
      ],
      "metadata": {
        "colab": {
          "base_uri": "https://localhost:8080/"
        },
        "id": "d4J1Cai4tvQb",
        "outputId": "edf928dc-646e-4184-f219-de0af5da5220"
      },
      "execution_count": null,
      "outputs": [
        {
          "output_type": "stream",
          "name": "stdout",
          "text": [
            "{'name': 'bob', 'city': 'new york'}\n"
          ]
        }
      ]
    },
    {
      "cell_type": "markdown",
      "source": [
        "QUE25- Write a code to check if the key \"city\" exist in the dictionary{\"name\": Alice, \"city\": Paris}"
      ],
      "metadata": {
        "id": "JlWfLZpLt0Jk"
      }
    },
    {
      "cell_type": "code",
      "source": [
        "person = {\"name\": \"Alice\", \"city\": \"Paris\"}\n",
        "\n",
        "# Checking if 'city' key exists\n",
        "if \"city\" in person:\n",
        "    print(\"Key 'city' exists in the dictionary\")\n",
        "else:\n",
        "    print(\"Key 'city' does not exist in the dictionary\")\n"
      ],
      "metadata": {
        "colab": {
          "base_uri": "https://localhost:8080/"
        },
        "id": "-pO4tD13uNKQ",
        "outputId": "398424aa-51cf-4f86-e533-de6927af8df1"
      },
      "execution_count": null,
      "outputs": [
        {
          "output_type": "stream",
          "name": "stdout",
          "text": [
            "Key 'city' exists in the dictionary\n"
          ]
        }
      ]
    },
    {
      "cell_type": "markdown",
      "source": [
        "QUE26- Write a code to create a list , a tuple and a dictionary, and print them all ?"
      ],
      "metadata": {
        "id": "R5vGpeKJuavX"
      }
    },
    {
      "cell_type": "code",
      "source": [
        "# Creating a list\n",
        "my_list = [1, 2, 3, 4, 5]\n",
        "\n",
        "# Creating a tuple\n",
        "my_tuple = ('apple', 'banana', 'cherry')\n",
        "\n",
        "# Creating a dictionary\n",
        "my_dict = {'name': 'Alice', 'age': 25, 'city': 'New York'}\n",
        "\n",
        "# Printing them\n",
        "print(\"List:\", my_list)\n",
        "print(\"Tuple:\", my_tuple)\n",
        "print(\"Dictionary:\", my_dict)\n"
      ],
      "metadata": {
        "colab": {
          "base_uri": "https://localhost:8080/"
        },
        "id": "eb-ecJiduqcA",
        "outputId": "8f4190ae-f873-4101-8b1f-2b903620c560"
      },
      "execution_count": null,
      "outputs": [
        {
          "output_type": "stream",
          "name": "stdout",
          "text": [
            "List: [1, 2, 3, 4, 5]\n",
            "Tuple: ('apple', 'banana', 'cherry')\n",
            "Dictionary: {'name': 'Alice', 'age': 25, 'city': 'New York'}\n"
          ]
        }
      ]
    },
    {
      "cell_type": "markdown",
      "source": [
        "QUE27- Write a code to create a list of 5 random numbers between 1 to 100 sort it in ascending order and print the result(replaced)"
      ],
      "metadata": {
        "id": "LitgNvktu0G_"
      }
    },
    {
      "cell_type": "code",
      "source": [
        "import random\n",
        "\n",
        "# Generate a list of 5 random numbers between 1 and 100\n",
        "random_numbers = random.sample(range(1, 101), 5)\n",
        "\n",
        "# Sort the list in ascending order\n",
        "random_numbers.sort()\n",
        "\n",
        "# Print the sorted list\n",
        "print(random_numbers)\n"
      ],
      "metadata": {
        "colab": {
          "base_uri": "https://localhost:8080/"
        },
        "id": "q5fMV9m7vIEf",
        "outputId": "aa27d1ce-23e2-4364-8fa9-51b37295c724"
      },
      "execution_count": null,
      "outputs": [
        {
          "output_type": "stream",
          "name": "stdout",
          "text": [
            "[6, 17, 34, 47, 51]\n"
          ]
        }
      ]
    },
    {
      "cell_type": "markdown",
      "source": [
        "QUE28- Write a code to create a list with string and print the element of the third index"
      ],
      "metadata": {
        "id": "kqJPE81xvVeW"
      }
    },
    {
      "cell_type": "code",
      "source": [
        "# Creating a list of strings\n",
        "my_list = [\"apple\", \"banana\", \"cherry\", \"orange\", \"grape\"]\n",
        "\n",
        "# Accessing the element at index 3\n",
        "third_index_element = my_list[3]\n",
        "\n",
        "# Printing the result\n",
        "print(third_index_element)\n"
      ],
      "metadata": {
        "colab": {
          "base_uri": "https://localhost:8080/"
        },
        "id": "5aizrcHSvlv6",
        "outputId": "1d5f3711-709e-4434-a7bb-c46555ee1299"
      },
      "execution_count": null,
      "outputs": [
        {
          "output_type": "stream",
          "name": "stdout",
          "text": [
            "orange\n"
          ]
        }
      ]
    },
    {
      "cell_type": "markdown",
      "source": [
        "QUE29- Write a code to combine tw dictionaries into one and print the result"
      ],
      "metadata": {
        "id": "BOUHRUNKvuFV"
      }
    },
    {
      "cell_type": "code",
      "source": [
        "# Creating two dictionaries\n",
        "dict1 = {'a': 1, 'b': 2}\n",
        "dict2 = {'c': 3, 'd': 4}\n",
        "\n",
        "# Merging dictionaries\n",
        "combined_dict = {**dict1, **dict2}\n",
        "\n",
        "# Printing the result\n",
        "print(combined_dict)\n"
      ],
      "metadata": {
        "colab": {
          "base_uri": "https://localhost:8080/"
        },
        "id": "Dgb1bNvrv8C9",
        "outputId": "6864cfd1-9b47-494a-f499-dc1ec619aed6"
      },
      "execution_count": null,
      "outputs": [
        {
          "output_type": "stream",
          "name": "stdout",
          "text": [
            "{'a': 1, 'b': 2, 'c': 3, 'd': 4}\n"
          ]
        }
      ]
    },
    {
      "cell_type": "markdown",
      "source": [
        "QUE30- Write a code to convert a list of strings into a set"
      ],
      "metadata": {
        "id": "EMAGJJoYwGbO"
      }
    },
    {
      "cell_type": "code",
      "source": [
        "# Creating a list of strings\n",
        "my_list = [\"apple\", \"banana\", \"cherry\", \"apple\", \"banana\"]\n",
        "\n",
        "# Converting the list into a set\n",
        "my_set = set(my_list)\n",
        "\n",
        "# Printing the result\n",
        "print(my_set)\n"
      ],
      "metadata": {
        "colab": {
          "base_uri": "https://localhost:8080/"
        },
        "id": "CW0xgsMPwUUz",
        "outputId": "e8fe4981-8279-4588-e006-02e15556d8be"
      },
      "execution_count": null,
      "outputs": [
        {
          "output_type": "stream",
          "name": "stdout",
          "text": [
            "{'banana', 'cherry', 'apple'}\n"
          ]
        }
      ]
    },
    {
      "cell_type": "code",
      "source": [],
      "metadata": {
        "id": "i9hznu2rwaMZ"
      },
      "execution_count": null,
      "outputs": []
    }
  ]
}